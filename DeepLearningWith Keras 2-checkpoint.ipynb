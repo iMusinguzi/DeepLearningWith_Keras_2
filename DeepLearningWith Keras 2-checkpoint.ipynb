{
 "cells": [
  {
   "cell_type": "markdown",
   "metadata": {},
   "source": [
    "DeepLearning with Keras 2"
   ]
  },
  {
   "cell_type": "code",
   "execution_count": 1,
   "metadata": {},
   "outputs": [
    {
     "name": "stderr",
     "output_type": "stream",
     "text": [
      "Using TensorFlow backend.\n"
     ]
    }
   ],
   "source": [
    "import numpy as np\n",
    "from keras.models import Sequential\n",
    "from keras.layers import Dense, Activation"
   ]
  },
  {
   "cell_type": "code",
   "execution_count": 2,
   "metadata": {},
   "outputs": [],
   "source": [
    "#generate dummy training dataset\n",
    "np.random.seed(2018)\n",
    "x_train = np.random.random((6000,10))#6000 x 10 multidimensional array of random floats\n",
    "y_train = np.random.randint(2,size=(6000,1))\n",
    "\n",
    "#generate dummy validation dataset\n",
    "x_val = np.random.random((2000,10))\n",
    "y_val = np.random.randint(2,size=(2000,1))\n",
    "\n",
    "#generate dummy test dataset\n",
    "x_test = np.random.random((2000,10))\n",
    "y_test = np.random.randint(2,size=(2000,1))#2000 X 1 arrays of ints between 0 and 1,inclusive\n",
    "\n",
    "#Define the model architecture\n",
    "model = Sequential()\n",
    "model.add(Dense(64,input_dim=10,activation = \"relu\"))#Layer 1\n",
    "model.add(Dense(32,activation = \"relu\"))              #Layer 2\n",
    "model.add(Dense(16,activation = \"relu\"))              #Layer 3\n",
    "model.add(Dense(8,activation = \"relu\"))               #Layer 4\n",
    "model.add(Dense(4,activation = \"relu\"))               #Layer 5\n",
    "model.add(Dense(1,activation = \"sigmoid\"))      #Output Layer"
   ]
  },
  {
   "cell_type": "markdown",
   "metadata": {},
   "source": [
    "Configure the model"
   ]
  },
  {
   "cell_type": "code",
   "execution_count": 3,
   "metadata": {},
   "outputs": [
    {
     "name": "stdout",
     "output_type": "stream",
     "text": [
      "WARNING:tensorflow:From C:\\Users\\Administrator\\Anaconda3\\lib\\site-packages\\tensorflow\\python\\ops\\nn_impl.py:180: add_dispatch_support.<locals>.wrapper (from tensorflow.python.ops.array_ops) is deprecated and will be removed in a future version.\n",
      "Instructions for updating:\n",
      "Use tf.where in 2.0, which has the same broadcast rule as np.where\n"
     ]
    }
   ],
   "source": [
    "model.compile(optimizer=\"Adam\",loss=\"binary_crossentropy\",metrics=['accuracy'])"
   ]
  },
  {
   "cell_type": "markdown",
   "metadata": {},
   "source": [
    "Train the model"
   ]
  },
  {
   "cell_type": "code",
   "execution_count": 4,
   "metadata": {},
   "outputs": [
    {
     "name": "stdout",
     "output_type": "stream",
     "text": [
      "WARNING:tensorflow:From C:\\Users\\Administrator\\Anaconda3\\lib\\site-packages\\keras\\backend\\tensorflow_backend.py:422: The name tf.global_variables is deprecated. Please use tf.compat.v1.global_variables instead.\n",
      "\n",
      "Train on 6000 samples, validate on 2000 samples\n",
      "Epoch 1/3\n",
      "6000/6000 [==============================] - 0s 67us/step - loss: 0.6933 - accuracy: 0.4988 - val_loss: 0.6931 - val_accuracy: 0.5005\n",
      "Epoch 2/3\n",
      "6000/6000 [==============================] - 0s 30us/step - loss: 0.6932 - accuracy: 0.4943 - val_loss: 0.6931 - val_accuracy: 0.5005\n",
      "Epoch 3/3\n",
      "6000/6000 [==============================] - 0s 33us/step - loss: 0.6932 - accuracy: 0.4913 - val_loss: 0.6931 - val_accuracy: 0.5000\n"
     ]
    },
    {
     "data": {
      "text/plain": [
       "<keras.callbacks.callbacks.History at 0x1c39de5afc8>"
      ]
     },
     "execution_count": 4,
     "metadata": {},
     "output_type": "execute_result"
    }
   ],
   "source": [
    "model.fit(x_train,y_train,batch_size=40,epochs=3,validation_data=(x_val,y_val))"
   ]
  },
  {
   "cell_type": "markdown",
   "metadata": {},
   "source": [
    "Evaluate model"
   ]
  },
  {
   "cell_type": "code",
   "execution_count": 5,
   "metadata": {},
   "outputs": [
    {
     "name": "stdout",
     "output_type": "stream",
     "text": [
      "2000/2000 [==============================] - 0s 14us/step\n",
      "[0.6929427447319031, 0.5210000276565552]\n"
     ]
    }
   ],
   "source": [
    "print(model.evaluate(x_test,y_test))"
   ]
  },
  {
   "cell_type": "code",
   "execution_count": 6,
   "metadata": {},
   "outputs": [
    {
     "name": "stdout",
     "output_type": "stream",
     "text": [
      "['loss', 'accuracy']\n"
     ]
    }
   ],
   "source": [
    "print(model.metrics_names)"
   ]
  },
  {
   "cell_type": "code",
   "execution_count": 7,
   "metadata": {},
   "outputs": [
    {
     "data": {
      "text/plain": [
       "array([[0.50401175],\n",
       "       [0.503248  ],\n",
       "       [0.50388855],\n",
       "       [0.50196695],\n",
       "       [0.5050569 ],\n",
       "       [0.5036831 ],\n",
       "       [0.49990988],\n",
       "       [0.5038793 ],\n",
       "       [0.5029177 ],\n",
       "       [0.5019697 ]], dtype=float32)"
      ]
     },
     "execution_count": 7,
     "metadata": {},
     "output_type": "execute_result"
    }
   ],
   "source": [
    "#First 10 predictions on the test dataset\n",
    "pred = model.predict(x_test)\n",
    "pred[:10]"
   ]
  },
  {
   "cell_type": "markdown",
   "metadata": {},
   "source": [
    "Using keras on boston_housing"
   ]
  },
  {
   "cell_type": "code",
   "execution_count": 8,
   "metadata": {},
   "outputs": [],
   "source": [
    "from keras.datasets import boston_housing\n",
    "(x_train,y_train), (x_test,y_test) = boston_housing.load_data()\n"
   ]
  },
  {
   "cell_type": "code",
   "execution_count": 9,
   "metadata": {},
   "outputs": [
    {
     "data": {
      "text/plain": [
       "((404, 13), (404,))"
      ]
     },
     "execution_count": 9,
     "metadata": {},
     "output_type": "execute_result"
    }
   ],
   "source": [
    "x_train.shape, y_train.shape"
   ]
  },
  {
   "cell_type": "code",
   "execution_count": 10,
   "metadata": {},
   "outputs": [
    {
     "data": {
      "text/plain": [
       "((102, 13), (102,))"
      ]
     },
     "execution_count": 10,
     "metadata": {},
     "output_type": "execute_result"
    }
   ],
   "source": [
    "x_test.shape,y_test.shape"
   ]
  },
  {
   "cell_type": "code",
   "execution_count": 11,
   "metadata": {},
   "outputs": [],
   "source": [
    "#Extract the last 100 rows from training data to create the validation datasets.\n",
    "x_val = x_train[300:,]\n",
    "y_val = y_train[300:,]"
   ]
  },
  {
   "cell_type": "markdown",
   "metadata": {},
   "source": [
    "Define the model architecture"
   ]
  },
  {
   "cell_type": "code",
   "execution_count": 12,
   "metadata": {},
   "outputs": [
    {
     "name": "stdout",
     "output_type": "stream",
     "text": [
      "Train on 404 samples, validate on 104 samples\n",
      "Epoch 1/30\n",
      "404/404 [==============================] - 0s 343us/step - loss: 579.8332 - mean_absolute_percentage_error: 99.2195 - val_loss: 663.2841 - val_mean_absolute_percentage_error: 98.0737\n",
      "Epoch 2/30\n",
      "404/404 [==============================] - 0s 39us/step - loss: 551.4506 - mean_absolute_percentage_error: 95.5949 - val_loss: 610.5608 - val_mean_absolute_percentage_error: 92.2790\n",
      "Epoch 3/30\n",
      "404/404 [==============================] - 0s 35us/step - loss: 478.5982 - mean_absolute_percentage_error: 85.7065 - val_loss: 492.7041 - val_mean_absolute_percentage_error: 78.0317\n",
      "Epoch 4/30\n",
      "404/404 [==============================] - 0s 39us/step - loss: 341.2007 - mean_absolute_percentage_error: 64.9794 - val_loss: 305.1255 - val_mean_absolute_percentage_error: 51.8368\n",
      "Epoch 5/30\n",
      "404/404 [==============================] - 0s 37us/step - loss: 184.5535 - mean_absolute_percentage_error: 45.1146 - val_loss: 154.8962 - val_mean_absolute_percentage_error: 37.5542\n",
      "Epoch 6/30\n",
      "404/404 [==============================] - 0s 40us/step - loss: 123.8027 - mean_absolute_percentage_error: 45.2860 - val_loss: 134.3948 - val_mean_absolute_percentage_error: 42.5224\n",
      "Epoch 7/30\n",
      "404/404 [==============================] - 0s 37us/step - loss: 118.5592 - mean_absolute_percentage_error: 45.7618 - val_loss: 129.0594 - val_mean_absolute_percentage_error: 37.4423\n",
      "Epoch 8/30\n",
      "404/404 [==============================] - 0s 42us/step - loss: 109.3821 - mean_absolute_percentage_error: 40.0961 - val_loss: 127.0472 - val_mean_absolute_percentage_error: 34.6980\n",
      "Epoch 9/30\n",
      "404/404 [==============================] - 0s 47us/step - loss: 102.4128 - mean_absolute_percentage_error: 38.4687 - val_loss: 116.4977 - val_mean_absolute_percentage_error: 35.0066\n",
      "Epoch 10/30\n",
      "404/404 [==============================] - 0s 47us/step - loss: 96.6469 - mean_absolute_percentage_error: 38.1600 - val_loss: 111.4317 - val_mean_absolute_percentage_error: 33.7396\n",
      "Epoch 11/30\n",
      "404/404 [==============================] - 0s 46us/step - loss: 92.3942 - mean_absolute_percentage_error: 35.2764 - val_loss: 109.6480 - val_mean_absolute_percentage_error: 30.9782\n",
      "Epoch 12/30\n",
      "404/404 [==============================] - 0s 47us/step - loss: 87.0356 - mean_absolute_percentage_error: 34.6208 - val_loss: 102.0492 - val_mean_absolute_percentage_error: 31.6412\n",
      "Epoch 13/30\n",
      "404/404 [==============================] - 0s 37us/step - loss: 82.2382 - mean_absolute_percentage_error: 33.6034 - val_loss: 99.5037 - val_mean_absolute_percentage_error: 29.5669\n",
      "Epoch 14/30\n",
      "404/404 [==============================] - 0s 35us/step - loss: 78.7581 - mean_absolute_percentage_error: 31.7080 - val_loss: 96.8671 - val_mean_absolute_percentage_error: 28.0356\n",
      "Epoch 15/30\n",
      "404/404 [==============================] - 0s 37us/step - loss: 74.9059 - mean_absolute_percentage_error: 31.0893 - val_loss: 92.6975 - val_mean_absolute_percentage_error: 28.0082\n",
      "Epoch 16/30\n",
      "404/404 [==============================] - 0s 35us/step - loss: 72.5040 - mean_absolute_percentage_error: 30.4072 - val_loss: 90.2322 - val_mean_absolute_percentage_error: 27.1309\n",
      "Epoch 17/30\n",
      "404/404 [==============================] - 0s 35us/step - loss: 70.0798 - mean_absolute_percentage_error: 30.6464 - val_loss: 87.9937 - val_mean_absolute_percentage_error: 26.7090\n",
      "Epoch 18/30\n",
      "404/404 [==============================] - 0s 35us/step - loss: 68.3263 - mean_absolute_percentage_error: 29.2388 - val_loss: 87.6693 - val_mean_absolute_percentage_error: 25.3628\n",
      "Epoch 19/30\n",
      "404/404 [==============================] - 0s 34us/step - loss: 66.9416 - mean_absolute_percentage_error: 29.2217 - val_loss: 85.0055 - val_mean_absolute_percentage_error: 25.9061\n",
      "Epoch 20/30\n",
      "404/404 [==============================] - 0s 34us/step - loss: 65.8592 - mean_absolute_percentage_error: 29.1177 - val_loss: 85.5958 - val_mean_absolute_percentage_error: 24.5157\n",
      "Epoch 21/30\n",
      "404/404 [==============================] - 0s 37us/step - loss: 64.9684 - mean_absolute_percentage_error: 28.6627 - val_loss: 84.4898 - val_mean_absolute_percentage_error: 24.5010\n",
      "Epoch 22/30\n",
      "404/404 [==============================] - 0s 37us/step - loss: 64.2193 - mean_absolute_percentage_error: 28.7834 - val_loss: 83.5876 - val_mean_absolute_percentage_error: 24.5661\n",
      "Epoch 23/30\n",
      "404/404 [==============================] - 0s 34us/step - loss: 64.3538 - mean_absolute_percentage_error: 27.5594 - val_loss: 84.6902 - val_mean_absolute_percentage_error: 23.7823\n",
      "Epoch 24/30\n",
      "404/404 [==============================] - 0s 34us/step - loss: 62.8971 - mean_absolute_percentage_error: 28.5054 - val_loss: 81.8993 - val_mean_absolute_percentage_error: 25.0719\n",
      "Epoch 25/30\n",
      "404/404 [==============================] - 0s 37us/step - loss: 62.9620 - mean_absolute_percentage_error: 28.9139 - val_loss: 82.7986 - val_mean_absolute_percentage_error: 24.1105\n",
      "Epoch 26/30\n",
      "404/404 [==============================] - 0s 34us/step - loss: 62.3072 - mean_absolute_percentage_error: 28.0064 - val_loss: 82.3329 - val_mean_absolute_percentage_error: 24.0798\n",
      "Epoch 27/30\n",
      "404/404 [==============================] - 0s 35us/step - loss: 62.2816 - mean_absolute_percentage_error: 29.0627 - val_loss: 81.2895 - val_mean_absolute_percentage_error: 24.4295\n",
      "Epoch 28/30\n",
      "404/404 [==============================] - 0s 42us/step - loss: 61.2653 - mean_absolute_percentage_error: 27.1723 - val_loss: 82.9843 - val_mean_absolute_percentage_error: 23.3697\n",
      "Epoch 29/30\n",
      "404/404 [==============================] - 0s 37us/step - loss: 61.0093 - mean_absolute_percentage_error: 27.1149 - val_loss: 81.6029 - val_mean_absolute_percentage_error: 23.6587\n",
      "Epoch 30/30\n",
      "404/404 [==============================] - 0s 35us/step - loss: 60.7527 - mean_absolute_percentage_error: 26.8648 - val_loss: 81.1799 - val_mean_absolute_percentage_error: 23.6345\n"
     ]
    },
    {
     "data": {
      "text/plain": [
       "<keras.callbacks.callbacks.History at 0x1c3a06d98c8>"
      ]
     },
     "execution_count": 12,
     "metadata": {},
     "output_type": "execute_result"
    }
   ],
   "source": [
    "model = Sequential()\n",
    "model.add(Dense(13,input_dim=13,kernel_initializer='normal',activation='relu'))\n",
    "model.add(Dense(6,kernel_initializer='normal',activation='relu'))\n",
    "model.add(Dense(1,kernel_initializer='normal',))\n",
    "\n",
    "#Compile model\n",
    "model.compile(loss='mean_squared_error',optimizer='adam',metrics=['mean_absolute_percentage_error'])\n",
    "\n",
    "#Train the model\n",
    "model.fit(x_train, y_train, batch_size=32,epochs=30,validation_data=(x_val,y_val))"
   ]
  },
  {
   "cell_type": "code",
   "execution_count": 13,
   "metadata": {},
   "outputs": [
    {
     "name": "stdout",
     "output_type": "stream",
     "text": [
      "102/102 [==============================] - 0s 49us/step\n",
      "loss : 65.66889774098115\n",
      "mean_absolute_percentage_error : 31.337316513061523\n"
     ]
    }
   ],
   "source": [
    "results = model.evaluate(x_test,y_test)\n",
    "for i in range(len(model.metrics_names)):\n",
    "    print(model.metrics_names[i],':',results[i])"
   ]
  },
  {
   "cell_type": "markdown",
   "metadata": {},
   "source": [
    "Train the model"
   ]
  },
  {
   "cell_type": "code",
   "execution_count": 14,
   "metadata": {},
   "outputs": [
    {
     "name": "stdout",
     "output_type": "stream",
     "text": [
      "Train on 404 samples, validate on 104 samples\n",
      "Epoch 1/30\n",
      "404/404 [==============================] - 0s 35us/step - loss: 60.0821 - mean_absolute_percentage_error: 27.5391 - val_loss: 80.2099 - val_mean_absolute_percentage_error: 23.9079\n",
      "Epoch 2/30\n",
      "404/404 [==============================] - 0s 37us/step - loss: 59.6384 - mean_absolute_percentage_error: 26.4765 - val_loss: 82.0782 - val_mean_absolute_percentage_error: 22.7905\n",
      "Epoch 3/30\n",
      "404/404 [==============================] - 0s 35us/step - loss: 59.4186 - mean_absolute_percentage_error: 26.7517 - val_loss: 79.4398 - val_mean_absolute_percentage_error: 23.8103\n",
      "Epoch 4/30\n",
      "404/404 [==============================] - 0s 35us/step - loss: 58.7983 - mean_absolute_percentage_error: 26.8502 - val_loss: 80.6146 - val_mean_absolute_percentage_error: 22.8205\n",
      "Epoch 5/30\n",
      "404/404 [==============================] - 0s 32us/step - loss: 58.6726 - mean_absolute_percentage_error: 26.2671 - val_loss: 79.0555 - val_mean_absolute_percentage_error: 23.4532\n",
      "Epoch 6/30\n",
      "404/404 [==============================] - 0s 34us/step - loss: 57.8334 - mean_absolute_percentage_error: 26.2617 - val_loss: 80.1955 - val_mean_absolute_percentage_error: 22.5324\n",
      "Epoch 7/30\n",
      "404/404 [==============================] - 0s 32us/step - loss: 57.6386 - mean_absolute_percentage_error: 25.0408 - val_loss: 79.5399 - val_mean_absolute_percentage_error: 22.5977\n",
      "Epoch 8/30\n",
      "404/404 [==============================] - 0s 32us/step - loss: 57.3036 - mean_absolute_percentage_error: 26.5471 - val_loss: 77.7639 - val_mean_absolute_percentage_error: 23.5502\n",
      "Epoch 9/30\n",
      "404/404 [==============================] - 0s 35us/step - loss: 57.1163 - mean_absolute_percentage_error: 25.2367 - val_loss: 79.5738 - val_mean_absolute_percentage_error: 22.2035\n",
      "Epoch 10/30\n",
      "404/404 [==============================] - 0s 34us/step - loss: 56.8605 - mean_absolute_percentage_error: 25.9896 - val_loss: 77.3792 - val_mean_absolute_percentage_error: 23.1205\n",
      "Epoch 11/30\n",
      "404/404 [==============================] - 0s 30us/step - loss: 56.5758 - mean_absolute_percentage_error: 24.7741 - val_loss: 77.9293 - val_mean_absolute_percentage_error: 22.4428\n",
      "Epoch 12/30\n",
      "404/404 [==============================] - 0s 30us/step - loss: 55.8682 - mean_absolute_percentage_error: 25.4080 - val_loss: 76.9079 - val_mean_absolute_percentage_error: 22.8783\n",
      "Epoch 13/30\n",
      "404/404 [==============================] - 0s 35us/step - loss: 55.6005 - mean_absolute_percentage_error: 25.7100 - val_loss: 77.1690 - val_mean_absolute_percentage_error: 22.3854\n",
      "Epoch 14/30\n",
      "404/404 [==============================] - 0s 35us/step - loss: 55.9782 - mean_absolute_percentage_error: 24.0487 - val_loss: 76.6191 - val_mean_absolute_percentage_error: 22.4689\n",
      "Epoch 15/30\n",
      "404/404 [==============================] - 0s 37us/step - loss: 55.9725 - mean_absolute_percentage_error: 26.8073 - val_loss: 75.7666 - val_mean_absolute_percentage_error: 22.7938\n",
      "Epoch 16/30\n",
      "404/404 [==============================] - 0s 37us/step - loss: 55.5728 - mean_absolute_percentage_error: 23.5671 - val_loss: 77.3176 - val_mean_absolute_percentage_error: 21.7674\n",
      "Epoch 17/30\n",
      "404/404 [==============================] - 0s 37us/step - loss: 54.2870 - mean_absolute_percentage_error: 25.3614 - val_loss: 74.4452 - val_mean_absolute_percentage_error: 23.3129\n",
      "Epoch 18/30\n",
      "404/404 [==============================] - 0s 35us/step - loss: 54.4277 - mean_absolute_percentage_error: 24.9112 - val_loss: 74.9708 - val_mean_absolute_percentage_error: 22.3567\n",
      "Epoch 19/30\n",
      "404/404 [==============================] - 0s 37us/step - loss: 53.9282 - mean_absolute_percentage_error: 25.3668 - val_loss: 74.0722 - val_mean_absolute_percentage_error: 22.7453\n",
      "Epoch 20/30\n",
      "404/404 [==============================] - 0s 30us/step - loss: 54.7405 - mean_absolute_percentage_error: 23.3830 - val_loss: 75.3112 - val_mean_absolute_percentage_error: 21.6882\n",
      "Epoch 21/30\n",
      "404/404 [==============================] - 0s 32us/step - loss: 54.3315 - mean_absolute_percentage_error: 26.4076 - val_loss: 72.7448 - val_mean_absolute_percentage_error: 23.4655\n",
      "Epoch 22/30\n",
      "404/404 [==============================] - 0s 30us/step - loss: 52.9690 - mean_absolute_percentage_error: 23.7997 - val_loss: 75.0548 - val_mean_absolute_percentage_error: 21.3857\n",
      "Epoch 23/30\n",
      "404/404 [==============================] - 0s 30us/step - loss: 52.5845 - mean_absolute_percentage_error: 23.4818 - val_loss: 73.2520 - val_mean_absolute_percentage_error: 21.9893\n",
      "Epoch 24/30\n",
      "404/404 [==============================] - 0s 35us/step - loss: 52.1990 - mean_absolute_percentage_error: 24.4885 - val_loss: 72.5144 - val_mean_absolute_percentage_error: 22.1966\n",
      "Epoch 25/30\n",
      "404/404 [==============================] - 0s 35us/step - loss: 52.0531 - mean_absolute_percentage_error: 23.8501 - val_loss: 72.3889 - val_mean_absolute_percentage_error: 21.9379\n",
      "Epoch 26/30\n",
      "404/404 [==============================] - 0s 34us/step - loss: 51.5460 - mean_absolute_percentage_error: 24.2595 - val_loss: 71.6278 - val_mean_absolute_percentage_error: 22.1740\n",
      "Epoch 27/30\n",
      "404/404 [==============================] - 0s 37us/step - loss: 51.1509 - mean_absolute_percentage_error: 24.2762 - val_loss: 72.3615 - val_mean_absolute_percentage_error: 21.3378\n",
      "Epoch 28/30\n",
      "404/404 [==============================] - 0s 34us/step - loss: 51.3276 - mean_absolute_percentage_error: 22.9893 - val_loss: 71.4100 - val_mean_absolute_percentage_error: 21.5501\n",
      "Epoch 29/30\n",
      "404/404 [==============================] - 0s 37us/step - loss: 50.6777 - mean_absolute_percentage_error: 24.3386 - val_loss: 70.5219 - val_mean_absolute_percentage_error: 21.8849\n",
      "Epoch 30/30\n",
      "404/404 [==============================] - 0s 32us/step - loss: 50.3454 - mean_absolute_percentage_error: 23.1801 - val_loss: 70.7718 - val_mean_absolute_percentage_error: 21.3160\n"
     ]
    },
    {
     "data": {
      "text/plain": [
       "<keras.callbacks.callbacks.History at 0x1c3a065f848>"
      ]
     },
     "execution_count": 14,
     "metadata": {},
     "output_type": "execute_result"
    }
   ],
   "source": [
    "model.fit(x_train,y_train,batch_size=32, epochs=30,validation_data=(x_val,y_val))"
   ]
  },
  {
   "cell_type": "code",
   "execution_count": 15,
   "metadata": {},
   "outputs": [
    {
     "name": "stdout",
     "output_type": "stream",
     "text": [
      "102/102 [==============================] - 0s 29us/step\n",
      "loss : 55.94206207873774\n",
      "mean_absolute_percentage_error : 27.786706924438477\n"
     ]
    }
   ],
   "source": [
    "results = model.evaluate(x_test,y_test)\n",
    "\n",
    "for i in range(len(model.metrics_names)):\n",
    "    print(model.metrics_names[i],':',results[i])"
   ]
  },
  {
   "cell_type": "code",
   "execution_count": null,
   "metadata": {},
   "outputs": [],
   "source": []
  }
 ],
 "metadata": {
  "kernelspec": {
   "display_name": "Python 3",
   "language": "python",
   "name": "python3"
  },
  "language_info": {
   "codemirror_mode": {
    "name": "ipython",
    "version": 3
   },
   "file_extension": ".py",
   "mimetype": "text/x-python",
   "name": "python",
   "nbconvert_exporter": "python",
   "pygments_lexer": "ipython3",
   "version": "3.7.4"
  }
 },
 "nbformat": 4,
 "nbformat_minor": 2
}
